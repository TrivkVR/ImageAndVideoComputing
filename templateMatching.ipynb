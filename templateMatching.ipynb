{
 "cells": [
  {
   "cell_type": "code",
   "execution_count": 62,
   "metadata": {},
   "outputs": [],
   "source": [
    "import cv2\n",
    "import numpy as np\n",
    "import matplotlib.pyplot as plt\n",
    "\n",
    "cap = cv2.VideoCapture(0)\n",
    "\n",
    "# Check if the webcam is opened correctly\n",
    "if not cap.isOpened():\n",
    "    raise IOError(\"Cannot open webcam\")\n",
    "\n",
    "#webcam interface\n",
    "while True:\n",
    "    ret, frame = cap.read()\n",
    "    frame = cv2.resize(frame, None, fx=0.5, fy=0.5, interpolation=cv2.INTER_AREA)\n",
    "    cv2.imshow('Input', frame)\n",
    "\n",
    "#saves the current webcam frame as screenGrab.png. Need to press the enter key to do so and that is the condition \n",
    "#in the if statement\n",
    "\n",
    "    c = cv2.waitKey(1)\n",
    "    if c == 13:                   \n",
    "        cv2.imwrite('./screenGrab.png',frame)\n",
    "        cv2.destroyAllWindows()\n",
    "        break\n",
    "\n",
    "#closes the webcam\n",
    "cap.release()\n",
    "\n",
    "image = cv2.imread('./screenGrab.png')\n",
    "#screenGrab converted to grayscale\n",
    "gray = cv2.cvtColor(image,cv2.COLOR_BGR2GRAY)\n",
    "\n"
   ]
  },
  {
   "cell_type": "code",
   "execution_count": 63,
   "metadata": {},
   "outputs": [],
   "source": [
    "#reading the template and converting it to grayscale\n",
    "a=180\n",
    "b=180\n",
    "tup = cv2.resize(cv2.imread('./thumbup.jpg'),(a,b))\n",
    "tdown = cv2.resize(cv2.imread('./thumbdown.jpg'),(a,b))\n",
    "peace= cv2.resize(cv2.imread('./peace.jpg'),(a,b))\n",
    "hang= cv2.resize(cv2.imread('./hang.jpg'),(a,b))\n",
    "gtup = cv2.cvtColor(tup,cv2.COLOR_BGR2GRAY)\n",
    "gtdown = cv2.cvtColor(tdown,cv2.COLOR_BGR2GRAY)\n",
    "gpeace = cv2.cvtColor(peace,cv2.COLOR_BGR2GRAY)\n",
    "ghang = cv2.cvtColor(hang,cv2.COLOR_BGR2GRAY)\n"
   ]
  },
  {
   "cell_type": "code",
   "execution_count": 64,
   "metadata": {},
   "outputs": [],
   "source": [
    "def template_matching_list(gray,gt):\n",
    "    r = []\n",
    "    gx = gray.shape[0]\n",
    "    gy = gray.shape[1]\n",
    "    gtx = gt.shape[0]\n",
    "    gty = gt.shape[1]\n",
    "    m_g = np.mean(gt)\n",
    "    gm_g = gt - np.mean(gt)\n",
    "    m_s = np.std(gt)\n",
    "\n",
    "    r = [[np.mean(np.multiply( gm_g , \n",
    "            gray[i:i+gtx,j:j+gty]-np.mean(gray[i:i+gtx,j:j+gty]))/(m_s * np.std(gray[i:i+gtx,j:j+gty]))) \n",
    "           for j in range(0,gy-gty) ] for i in range(0,gx-gtx) ]\n",
    "\n",
    "    ncc = np.array(r)\n",
    "    ncc = ncc.reshape(gx-gtx,gy-gty)        \n",
    "    \n",
    "    res = np.where(ncc == np.max(ncc))\n",
    "    x,y = int(res[0]),int(res[1])\n",
    "\n",
    "    return image[x:x+gt.shape[0],y:y+gt.shape[1]],np.max(ncc)\n",
    "\n",
    "    "
   ]
  },
  {
   "cell_type": "code",
   "execution_count": 65,
   "metadata": {},
   "outputs": [
    {
     "name": "stdout",
     "output_type": "stream",
     "text": [
      "[0.23780558 0.43237456 0.39826061 0.23162484]\n",
      "Thumbs down\n",
      "👎\n",
      "1\n"
     ]
    }
   ],
   "source": [
    "tu,m0 = template_matching_list(gray,gtup)\n",
    "td,m1 = template_matching_list(gray,gtdown)\n",
    "th,m2 = template_matching_list(gray,ghang)\n",
    "tp,m3 = template_matching_list(gray,gpeace)\n",
    "\n",
    "m = np.array([m0,m1,m2,m3])\n",
    "print(m)\n",
    "\n",
    "signal = np.where(m == np.max(m))\n",
    "signal = int(signal[0])\n",
    "\n",
    "if signal == 0:\n",
    "    matched = tu\n",
    "    uni=\"\\U0001f44d\"\n",
    "    print('Thumbs up')\n",
    "elif signal == 1:\n",
    "    matched = td\n",
    "    uni=\"\\U0001f44e\"\n",
    "    print('Thumbs down')\n",
    "elif signal == 2:\n",
    "         matched = th\n",
    "         uni=\"\\U0001f919\"\n",
    "         print('Hang')   \n",
    "else:\n",
    "    matched = tp \n",
    "    uni=u'\\u270c'\n",
    "    print('Peace')\n",
    "\n",
    "print(uni)\n",
    "print(signal)\n",
    "\n",
    "cv2.imshow('Output Image',matched)\n",
    "cv2.waitKey(0)\n",
    "\n",
    "cv2.destroyAllWindows()"
   ]
  },
  {
   "cell_type": "code",
   "execution_count": null,
   "metadata": {},
   "outputs": [],
   "source": []
  },
  {
   "cell_type": "code",
   "execution_count": null,
   "metadata": {},
   "outputs": [],
   "source": []
  }
 ],
 "metadata": {
  "kernelspec": {
   "display_name": "Python 3",
   "language": "python",
   "name": "python3"
  },
  "language_info": {
   "codemirror_mode": {
    "name": "ipython",
    "version": 3
   },
   "file_extension": ".py",
   "mimetype": "text/x-python",
   "name": "python",
   "nbconvert_exporter": "python",
   "pygments_lexer": "ipython3",
   "version": "3.7.6"
  }
 },
 "nbformat": 4,
 "nbformat_minor": 4
}
