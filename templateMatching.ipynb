{
 "cells": [
  {
   "cell_type": "code",
   "execution_count": 165,
   "metadata": {},
   "outputs": [],
   "source": [
    "import numpy as np\n",
    "import math"
   ]
  },
  {
   "cell_type": "code",
   "execution_count": 166,
   "metadata": {},
   "outputs": [],
   "source": [
    "def a_calc(x,bx):\n",
    "    return np.sum(np.multiply((np.power(x,2)),bx))"
   ]
  },
  {
   "cell_type": "code",
   "execution_count": 167,
   "metadata": {},
   "outputs": [],
   "source": [
    "def c_calc(y,by):\n",
    "     return np.sum(np.multiply((np.power(y,2)),by))"
   ]
  },
  {
   "cell_type": "code",
   "execution_count": 168,
   "metadata": {},
   "outputs": [],
   "source": [
    "def b_calc(x,bx,y,by):\n",
    "     return np.sum(np.multiply(x,y))*bx*by"
   ]
  },
  {
   "cell_type": "code",
   "execution_count": 169,
   "metadata": {},
   "outputs": [],
   "source": [
    "def tan_alpha(a,b,c):\n",
    "    return b/(a-c)"
   ]
  },
  {
   "cell_type": "code",
   "execution_count": 170,
   "metadata": {},
   "outputs": [],
   "source": [
    "def the_work():\n",
    "    x = np.arange(0,3)\n",
    "    y = np.arange(0,3)\n",
    "    xc = 1\n",
    "    yc = 1\n",
    "    bx = 3\n",
    "    by = 3\n",
    "    \n",
    "    a = (a_calc(x-xc,bx))\n",
    "    c = (c_calc(y-yc,by))\n",
    "    #x = x.reshape(len(x),1)\n",
    "    #y = y.reshape(1,len(y))\n",
    "    b = (b_calc(x-xc,bx,y-yc,by))\n",
    "    alpha = math.degrees(math.atan(b/(a-c)))/2\n",
    "    #emin = (a+c)/(2) - ((a-c) * ((a-c)/np.power(np.power(b,2) + np.power(a-c,2),0.5)))#- (np.power(b,2)/np.power(np.power(b,2)+ np.power(a-c,2),0.5))\n",
    "    #emax = (a+c)/(2) + ((a-c) * ((a-c)/np.power(np.power(b,2) + np.power(a-c,2),0.5)))#- (np.power(b,2)/np.power(np.power(b,2)+ np.power(a-c,2),0.5))    \n",
    "    print(a)\n",
    "    print(b)\n",
    "    print(c)\n",
    "    print(b/(a-c))\n",
    "    print(alpha)\n",
    "    #print(emin)\n",
    "    #print(emax)\n",
    "    #print(emin/emax)"
   ]
  },
  {
   "cell_type": "code",
   "execution_count": 171,
   "metadata": {},
   "outputs": [
    {
     "name": "stdout",
     "output_type": "stream",
     "text": [
      "6\n",
      "18\n",
      "6\n",
      "inf\n",
      "45.0\n"
     ]
    },
    {
     "name": "stderr",
     "output_type": "stream",
     "text": [
      "/media/viki/9d099b19-daa7-4086-8822-80972be1cc2d/viki/DevEnvironment/Anaconda/lib/python3.7/site-packages/ipykernel_launcher.py:14: RuntimeWarning: divide by zero encountered in long_scalars\n",
      "  \n",
      "/media/viki/9d099b19-daa7-4086-8822-80972be1cc2d/viki/DevEnvironment/Anaconda/lib/python3.7/site-packages/ipykernel_launcher.py:20: RuntimeWarning: divide by zero encountered in long_scalars\n"
     ]
    }
   ],
   "source": [
    "the_work()"
   ]
  },
  {
   "cell_type": "code",
   "execution_count": 172,
   "metadata": {},
   "outputs": [
    {
     "name": "stdout",
     "output_type": "stream",
     "text": [
      "[0. 0. 0.]\n"
     ]
    }
   ],
   "source": [
    "print(np.sum(np.multiply(x-xc,y-yc))*bx*by)"
   ]
  },
  {
   "cell_type": "code",
   "execution_count": 173,
   "metadata": {},
   "outputs": [
    {
     "name": "stdout",
     "output_type": "stream",
     "text": [
      "[3. 3. 3.]\n"
     ]
    }
   ],
   "source": [
    "print(bx)"
   ]
  },
  {
   "cell_type": "code",
   "execution_count": null,
   "metadata": {},
   "outputs": [],
   "source": []
  }
 ],
 "metadata": {
  "kernelspec": {
   "display_name": "Python 3",
   "language": "python",
   "name": "python3"
  },
  "language_info": {
   "codemirror_mode": {
    "name": "ipython",
    "version": 3
   },
   "file_extension": ".py",
   "mimetype": "text/x-python",
   "name": "python",
   "nbconvert_exporter": "python",
   "pygments_lexer": "ipython3",
   "version": "3.7.6"
  }
 },
 "nbformat": 4,
 "nbformat_minor": 4
}
