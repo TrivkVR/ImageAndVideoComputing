{
 "cells": [
  {
   "cell_type": "code",
   "execution_count": 9,
   "metadata": {},
   "outputs": [],
   "source": [
    "import cv2\n",
    "import numpy as np\n",
    "\n",
    "cap = cv2.VideoCapture(0)\n",
    "\n",
    "# Check if the webcam is opened correctly\n",
    "if not cap.isOpened():\n",
    "    raise IOError(\"Cannot open webcam\")\n",
    "\n",
    "#webcam interface\n",
    "while True:\n",
    "    ret, frame = cap.read()\n",
    "    frame = cv2.resize(frame, None, fx=0.5, fy=0.5, interpolation=cv2.INTER_AREA)\n",
    "    cv2.imshow('Input', frame)\n",
    "\n",
    "#saves the current webcam frame as screenGrab.png. Need to press the enter key to do so and that is the condition \n",
    "#in the if statement\n",
    "\n",
    "    c = cv2.waitKey(1)\n",
    "    if c == 13:                   \n",
    "        cv2.imwrite('./screenGrab.png',frame)\n",
    "        cv2.destroyAllWindows()\n",
    "        break\n",
    "\n",
    "#closes the webcam\n",
    "cap.release()\n",
    "\n",
    "image = cv2.imread('./screenGrab.png')\n",
    "#screenGrab converted to grayscale\n",
    "gray = cv2.cvtColor(image,cv2.COLOR_BGR2GRAY)"
   ]
  },
  {
   "cell_type": "code",
   "execution_count": 10,
   "metadata": {},
   "outputs": [],
   "source": [
    "#reading the template and converting it to grayscale\n",
    "t = cv2.imread('./thumb.png')\n",
    "gt = cv2.cvtColor(t,cv2.COLOR_BGR2GRAY)"
   ]
  },
  {
   "cell_type": "code",
   "execution_count": null,
   "metadata": {},
   "outputs": [],
   "source": [
    "#Actual algo. Needs to be vectorized because it is really slow. Takes around 10-15 seconds at the moment\n",
    "#What needs to be done : \n",
    "#Get 4 templates\n",
    "#run the algo on all 4\n",
    "#Display the gesture type based on which template yields maximum r(ncc)\n",
    "r = []\n",
    "\n",
    "m_g = np.mean(gt)\n",
    "gm_g = gt - np.mean(gt)\n",
    "m_s = np.std(gt)\n",
    "\n",
    "for i in range(0,gray.shape[0] - gt.shape[0]):\n",
    "    for j in range(0,gray.shape[1]-gt.shape[1]):\n",
    "        t = gray[i:i + gt.shape[0],j:j+gt.shape[1]]\n",
    "        r.append(np.mean(np.multiply( gm_g , ( t-np.mean(t) ))/(m_s * np.std(t))))\n",
    "ncc = np.array(r)\n",
    "ncc = ncc.reshape(140,220)        \n",
    "\n"
   ]
  },
  {
   "cell_type": "code",
   "execution_count": null,
   "metadata": {},
   "outputs": [],
   "source": [
    "#Outputs the portion of the picture that is supposed to be the thumb. \n",
    "#Right now the size of the output is the template. We need to decide the appropriate size of the output image.\n",
    "\n",
    "res = np.where(ncc == np.max(ncc))\n",
    "x,y = int(res[0]),int(res[1])\n",
    "\n",
    "matched = gray[x:x+gt.shape[0],y:y+gt.shape[1]]\n",
    "\n",
    "cv2.imshow('Matched',matched)\n",
    "cv2.waitKey(0)\n",
    "cv2.destroyAllWindows()"
   ]
  },
  {
   "cell_type": "code",
   "execution_count": 4,
   "metadata": {},
   "outputs": [
    {
     "name": "stdout",
     "output_type": "stream",
     "text": [
      "👍\n",
      "👎\n"
     ]
    }
   ],
   "source": [
    "print(\"\\U0001f44d\")\n",
    "print(\"\\U0001f44e\")"
   ]
  },
  {
   "cell_type": "code",
   "execution_count": null,
   "metadata": {},
   "outputs": [],
   "source": []
  }
 ],
 "metadata": {
  "kernelspec": {
   "display_name": "Python 3",
   "language": "python",
   "name": "python3"
  },
  "language_info": {
   "codemirror_mode": {
    "name": "ipython",
    "version": 3
   },
   "file_extension": ".py",
   "mimetype": "text/x-python",
   "name": "python",
   "nbconvert_exporter": "python",
   "pygments_lexer": "ipython3",
   "version": "3.7.6"
  }
 },
 "nbformat": 4,
 "nbformat_minor": 4
}
