{
 "cells": [
  {
   "cell_type": "markdown",
   "metadata": {},
   "source": [
    "<h1>Assignment 1</h1>\n",
    "\n",
    "Libraries required for the program are imported as follows"
   ]
  },
  {
   "cell_type": "code",
   "execution_count": 1,
   "metadata": {},
   "outputs": [],
   "source": [
    "import numpy as np\n",
    "import cv2"
   ]
  },
  {
   "cell_type": "markdown",
   "metadata": {},
   "source": [
    "<h1>Functions</h1>\n",
    "\n",
    "Below are the functions used to display the original image,convert the image to grayscale and to then blur the image"
   ]
  },
  {
   "cell_type": "code",
   "execution_count": 2,
   "metadata": {},
   "outputs": [],
   "source": [
    "def display_originalImage():\n",
    "    cv2.imshow('Image',image)\n",
    "    cv2.waitKey(0)\n",
    "    cv2.destroyAllWindows()    "
   ]
  },
  {
   "cell_type": "code",
   "execution_count": 3,
   "metadata": {},
   "outputs": [],
   "source": [
    "def gray_scale(ep):\n",
    "    gray = ep\n",
    "    for i in range(gray.shape[0]):\n",
    "        for j in range(gray.shape[1]):\n",
    "            gray[i,j] = 0.0722 * gray[i,j,0] + 0.7152 * gray[i,j,1] + 0.2152 * gray[i,j,2]\n",
    "    cv2.imshow('Grayscale image',gray)\n",
    "    cv2.imwrite('grayscale_pic.png',gray)\n",
    "    cv2.waitKey(0)\n",
    "    cv2.destroyAllWindows()"
   ]
  },
  {
   "cell_type": "code",
   "execution_count": 4,
   "metadata": {},
   "outputs": [],
   "source": [
    "def blur_image(i):\n",
    "    itr = 0\n",
    "    n = int(i)\n",
    "    for itr in range(0,n):\n",
    "        if itr == 0:\n",
    "            b =  cv2.imread('./grayscale_pic.png')\n",
    "        else:\n",
    "            b = blur.copy()\n",
    "            \n",
    "        for i in range(b.shape[0]):\n",
    "            for j in range(b.shape[1]):\n",
    "                if i -1 >= 0 and j - 1 >=0 and i+1 <= b.shape[0] -1 and j+1 <= b.shape[1] -1:\n",
    "                    x = np.array([b[i+1,j,:] , b[i+1,j+1,:] , b[i+1,j-1,:] , b[i-1,j,:] , b[i-1,j+1,:] , b[i-1,j-1,:]\n",
    "                                     , b[i,j,:] , b[i,j+1,:] , b[i,j-1,:]])\n",
    "\n",
    "                elif i == 0 and j == 0:\n",
    "                    x = np.array([b[i,j+1,:] , b[i+1,j,:] , b[i+1,j+1,:] , b[i,j,:]])\n",
    "\n",
    "\n",
    "                elif i == 0 and j == b.shape[1] -1:\n",
    "                    x = np.array([b[i,j,:] , b[i,j-1,:] , b[i+1,j-1,:] , b[i+1,j,:]])\n",
    "\n",
    "                elif i == b.shape[0] - 1 and j == 0:\n",
    "                    x = np.array([b[i,j,:] , b[i,j+1,:] , b[i-1,j+1,:] , b[i-1,j,:]]) \n",
    "\n",
    "                elif i == b.shape[0] - 1 and j == b.shape[1] -1:\n",
    "                    x = np.array([b[i,j,:] , b[i,j-1,:] , b[i-1,j-1,:] , b[i-1,j,:]])\n",
    "\n",
    "                elif i == 0 and j - 1 >= 0  and j + 1 <= b.shape[1] -1:\n",
    "                        x = np.array([b[i,j,:] , b[i+1,j,:] , b[i+1,j-1,:] , b[i+1,j+1,:] , b[i,j+1,:] , b[i,j-1,:]])\n",
    "\n",
    "                elif i == b.shape[0] - 1 and j - 1 >= 0  and j + 1 <= b.shape[1] -1:\n",
    "                        x = np.array([b[i,j,:] , b[i-1,j,:] , b[i-1,j-1,:] , b[i-1,j+1,:] , b[i,j+1,:] , b[i,j-1,:]])\n",
    "\n",
    "                elif j == 0 and i - 1 >= 0 and i + 1 <= b.shape[0] - 1:\n",
    "                        x = np.array([b[i,j,:] , b[i-1,j,:] , b[i-1,j+1,:] , b[i,j+1,:] , b[i+1,j,:] , b[i+1,j+1,:]])\n",
    "\n",
    "                elif j == b.shape[1]-1 and i - 1 >= 0 and i + 1 <= b.shape[0] - 1:\n",
    "                        x = np.array([b[i,j,:] , b[i-1,j,:] , b[i-1,j-1,:] , b[i,j-1,:] , b[i+1,j-1,:] , b[i+1,j,:]])                            \n",
    "\n",
    "                blur[i,j,:] = np.mean(x,axis=0).astype(float)                     \n",
    "\n",
    "        \n",
    "        cv2.imwrite('blur.png',blur)\n",
    "        bl = cv2.imread('./blur.png')\n",
    "        cv2.imshow('Bl',bl)\n",
    "        cv2.waitKey(0)\n",
    "        cv2.destroyAllWindows()            \n",
    "        "
   ]
  },
  {
   "cell_type": "markdown",
   "metadata": {},
   "source": [
    "<h1>Running the program</h1>\n",
    "\n",
    "The code below is used to demonstrate the functions. The user can enter the number of iterations necessary for blurring"
   ]
  },
  {
   "cell_type": "code",
   "execution_count": 5,
   "metadata": {},
   "outputs": [
    {
     "name": "stdout",
     "output_type": "stream",
     "text": [
      "Enter the number of iterations for the blurring operation : 5\n"
     ]
    }
   ],
   "source": [
    "image = cv2.imread('./personal_pic.png')\n",
    "display_originalImage()\n",
    "gray_scale(image.copy())\n",
    "b = cv2.imread('./grayscale_pic.png')\n",
    "blur = np.zeros((b.shape))\n",
    "x = input('Enter the number of iterations for the blurring operation : ')\n",
    "blur_image(x)\n"
   ]
  },
  {
   "cell_type": "code",
   "execution_count": null,
   "metadata": {},
   "outputs": [],
   "source": []
  },
  {
   "cell_type": "code",
   "execution_count": null,
   "metadata": {},
   "outputs": [],
   "source": []
  }
 ],
 "metadata": {
  "kernelspec": {
   "display_name": "Python 3",
   "language": "python",
   "name": "python3"
  },
  "language_info": {
   "codemirror_mode": {
    "name": "ipython",
    "version": 3
   },
   "file_extension": ".py",
   "mimetype": "text/x-python",
   "name": "python",
   "nbconvert_exporter": "python",
   "pygments_lexer": "ipython3",
   "version": "3.7.6"
  }
 },
 "nbformat": 4,
 "nbformat_minor": 4
}
